{
  "nbformat": 4,
  "nbformat_minor": 0,
  "metadata": {
    "colab": {
      "provenance": [],
      "authorship_tag": "ABX9TyOgbhTMC5VCr2N2/nQQJ9JM",
      "include_colab_link": true
    },
    "kernelspec": {
      "name": "python3",
      "display_name": "Python 3"
    },
    "language_info": {
      "name": "python"
    }
  },
  "cells": [
    {
      "cell_type": "markdown",
      "metadata": {
        "id": "view-in-github",
        "colab_type": "text"
      },
      "source": [
        "<a href=\"https://colab.research.google.com/github/AlmahdiPen/2025_PBO_TI-1A/blob/main/programbilangan.ipynb\" target=\"_parent\"><img src=\"https://colab.research.google.com/assets/colab-badge.svg\" alt=\"Open In Colab\"/></a>"
      ]
    },
    {
      "cell_type": "markdown",
      "source": [
        "# Program pengecek bilangan genap, ganjil dan Prima"
      ],
      "metadata": {
        "id": "6ODNNZag7S4c"
      }
    },
    {
      "cell_type": "code",
      "execution_count": 7,
      "metadata": {
        "colab": {
          "base_uri": "https://localhost:8080/"
        },
        "id": "6lvui94-7Qpr",
        "outputId": "ddf7cb61-efbc-4843-d0e2-704ecb4e48a3"
      },
      "outputs": [
        {
          "output_type": "stream",
          "name": "stdout",
          "text": [
            "===== Program Pengecek Bilangan =====\n",
            "Masukkan bilangan bulat positif: 1\n",
            "1 adalah bilangan Ganjil.\n",
            "1 bukan bilangan Prima.\n",
            "\n",
            "Apakah Anda ingin keluar? (Y/N): n\n",
            "===== Program Pengecek Bilangan =====\n",
            "Masukkan bilangan bulat positif: 2\n",
            "2 adalah bilangan Genap.\n",
            "2 juga merupakan bilangan Prima.\n",
            "\n",
            "Apakah Anda ingin keluar? (Y/N): n\n",
            "===== Program Pengecek Bilangan =====\n",
            "Masukkan bilangan bulat positif: 4\n",
            "4 adalah bilangan Genap.\n",
            "4 bukan bilangan Prima.\n",
            "\n",
            "Apakah Anda ingin keluar? (Y/N): y\n",
            "Terima kasih telah menggunakan program ini.\n"
          ]
        }
      ],
      "source": [
        "import os\n",
        "\n",
        "def cek_prima(angka):\n",
        "    \"\"\"Fungsi untuk mengecek apakah suatu bilangan adalah bilangan prima.\"\"\"\n",
        "    if angka < 2:\n",
        "        return False\n",
        "    for i in range(2, int(angka ** 0.5) + 1):\n",
        "        if angka % i == 0:\n",
        "            return False\n",
        "    return True\n",
        "\n",
        "while True:\n",
        "    os.system('cls' if os.name == 'nt' else 'clear')\n",
        "    print(\"===== Program Pengecek Bilangan =====\")\n",
        "\n",
        "    while True:\n",
        "        try:\n",
        "            angka = int(input(\"Masukkan bilangan bulat positif: \"))\n",
        "            if angka < 0:\n",
        "                print(\"Bilangan harus positif! Silakan coba lagi.\")\n",
        "                continue\n",
        "            break\n",
        "        except ValueError:\n",
        "            print(\"Input tidak valid! Masukkan angka bulat.\")\n",
        "\n",
        "    if angka % 2 == 0:\n",
        "        print(f\"{angka} adalah bilangan Genap.\")\n",
        "    else:\n",
        "        print(f\"{angka} adalah bilangan Ganjil.\")\n",
        "\n",
        "    if cek_prima(angka):\n",
        "        print(f\"{angka} juga merupakan bilangan Prima.\")\n",
        "    else:\n",
        "        print(f\"{angka} bukan bilangan Prima.\")\n",
        "\n",
        "    while True:\n",
        "        keluar = input(\"\\nApakah Anda ingin keluar? (Y/N): \").strip().upper()\n",
        "        if keluar in [\"Y\", \"N\"]:\n",
        "            break\n",
        "        print(\"Input tidak valid! Masukkan hanya 'Y' atau 'N'.\")\n",
        "\n",
        "    if keluar == \"Y\":\n",
        "        print(\"Terima kasih telah menggunakan program ini.\")\n",
        "        break\n"
      ]
    }
  ]
}