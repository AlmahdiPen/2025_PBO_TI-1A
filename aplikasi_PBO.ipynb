{
  "nbformat": 4,
  "nbformat_minor": 0,
  "metadata": {
    "colab": {
      "provenance": [],
      "authorship_tag": "ABX9TyOvq4vADTFw32FzjSebpzNQ",
      "include_colab_link": true
    },
    "kernelspec": {
      "name": "python3",
      "display_name": "Python 3"
    },
    "language_info": {
      "name": "python"
    }
  },
  "cells": [
    {
      "cell_type": "markdown",
      "metadata": {
        "id": "view-in-github",
        "colab_type": "text"
      },
      "source": [
        "<a href=\"https://colab.research.google.com/github/AlmahdiPen/2025_PBO_TI-1A/blob/main/aplikasi_PBO.ipynb\" target=\"_parent\"><img src=\"https://colab.research.google.com/assets/colab-badge.svg\" alt=\"Open In Colab\"/></a>"
      ]
    },
    {
      "cell_type": "code",
      "source": [
        "!pip install streamlit pyngrok pandas -q"
      ],
      "metadata": {
        "id": "s8ifFQMUCa4r"
      },
      "execution_count": null,
      "outputs": []
    },
    {
      "cell_type": "code",
      "source": [
        "%%writefile model.py\n",
        "\n",
        "from dataclasses import dataclass, field\n",
        "from typing import List\n",
        "\n",
        "@dataclass\n",
        "class Bahan:\n",
        "    \"\"\"Mendefinisikan satu bahan dengan jumlah dan satuan.\"\"\"\n",
        "    nama: str\n",
        "    jumlah: float\n",
        "    satuan: str\n",
        "\n",
        "    def __repr__(self):\n",
        "        return f\"{self.jumlah} {self.satuan} {self.nama}\"\n",
        "\n",
        "@dataclass\n",
        "class Resep:\n",
        "    \"\"\"Mendefinisikan satu resep, yang terdiri dari banyak bahan.\"\"\"\n",
        "    nama: str\n",
        "    bahan: List[Bahan] = field(default_factory=list)\n",
        "    instruksi: str = \"\"\n",
        "\n",
        "    def __repr__(self):\n",
        "        return f\"Resep({self.nama})\""
      ],
      "metadata": {
        "colab": {
          "base_uri": "https://localhost:8080/"
        },
        "id": "eDtgXtWqBFX-",
        "outputId": "6b92d4d7-d3a9-4dd2-c0e9-53043bdc07d5"
      },
      "execution_count": null,
      "outputs": [
        {
          "output_type": "stream",
          "name": "stdout",
          "text": [
            "Overwriting model.py\n"
          ]
        }
      ]
    },
    {
      "cell_type": "code",
      "source": [
        "%%writefile manajer_data.py\n",
        "\n",
        "import json\n",
        "from model import Resep, Bahan\n",
        "from typing import List, Dict\n",
        "\n",
        "class ManajerData:\n",
        "    \"\"\"Mengelola proses simpan, muat, tambah, hapus, dan update resep.\"\"\"\n",
        "    def __init__(self, filepath=\"resep_db.json\"):\n",
        "        self.filepath = filepath\n",
        "\n",
        "    def _resep_ke_dict(self, resep: Resep) -> Dict:\n",
        "        return {\n",
        "            \"nama\": resep.nama,\n",
        "            \"bahan\": [{\"nama\": b.nama, \"jumlah\": b.jumlah, \"satuan\": b.satuan} for b in resep.bahan],\n",
        "            \"instruksi\": resep.instruksi\n",
        "        }\n",
        "\n",
        "    def muat_resep(self) -> List[Resep]:\n",
        "        try:\n",
        "            with open(self.filepath, 'r') as f:\n",
        "                data = json.load(f)\n",
        "                return [Resep(\n",
        "                    nama=rd['nama'],\n",
        "                    bahan=[Bahan(**b) for b in rd.get('bahan', [])],\n",
        "                    instruksi=rd.get('instruksi', '')\n",
        "                ) for rd in data]\n",
        "        except (FileNotFoundError, json.JSONDecodeError):\n",
        "            return []\n",
        "\n",
        "    def simpan_resep(self, daftar_resep: List[Resep]):\n",
        "        with open(self.filepath, 'w') as f:\n",
        "            json.dump([self._resep_ke_dict(r) for r in daftar_resep], f, indent=4)\n",
        "\n",
        "    def tambah_resep(self, resep: Resep):\n",
        "        daftar_resep = self.muat_resep()\n",
        "        if any(r.nama.lower() == resep.nama.lower() for r in daftar_resep):\n",
        "            raise ValueError(f\"Resep dengan nama '{resep.nama}' sudah ada.\")\n",
        "        daftar_resep.append(resep)\n",
        "        self.simpan_resep(daftar_resep)\n",
        "\n",
        "    def hapus_resep(self, nama_resep: str):\n",
        "        daftar_resep = self.muat_resep()\n",
        "        resep_setelah_hapus = [r for r in daftar_resep if r.nama.lower() != nama_resep.lower()]\n",
        "        if len(resep_setelah_hapus) == len(daftar_resep):\n",
        "            raise ValueError(f\"Resep '{nama_resep}' tidak ditemukan.\")\n",
        "        self.simpan_resep(resep_setelah_hapus)\n",
        "\n",
        "    def update_resep(self, nama_resep_lama: str, resep_baru: Resep):\n",
        "        daftar_resep = self.muat_resep()\n",
        "        index_to_update = -1\n",
        "        for i, r in enumerate(daftar_resep):\n",
        "            if r.nama.lower() == nama_resep_lama.lower():\n",
        "                index_to_update = i\n",
        "                break\n",
        "\n",
        "        if index_to_update == -1:\n",
        "            raise ValueError(f\"Resep '{nama_resep_lama}' tidak ditemukan untuk diupdate.\")\n",
        "\n",
        "        if nama_resep_lama.lower() != resep_baru.nama.lower():\n",
        "             if any(r.nama.lower() == resep_baru.nama.lower() for r in daftar_resep):\n",
        "                raise ValueError(f\"Nama resep baru '{resep_baru.nama}' sudah digunakan oleh resep lain.\")\n",
        "\n",
        "        daftar_resep[index_to_update] = resep_baru\n",
        "        self.simpan_resep(daftar_resep)"
      ],
      "metadata": {
        "colab": {
          "base_uri": "https://localhost:8080/"
        },
        "id": "uXflbmqNQP5l",
        "outputId": "1a06e298-9d14-4a32-cb24-c085979ac62e"
      },
      "execution_count": null,
      "outputs": [
        {
          "output_type": "stream",
          "name": "stdout",
          "text": [
            "Overwriting manajer_data.py\n"
          ]
        }
      ]
    },
    {
      "cell_type": "code",
      "source": [
        "%%writefile perencana.py\n",
        "\n",
        "from collections import defaultdict\n",
        "from typing import List, Dict\n",
        "from model import Resep\n",
        "\n",
        "class PerencanaMenu:\n",
        "    \"\"\"Berisi logika bisnis untuk menghasilkan daftar belanja.\"\"\"\n",
        "    def __init__(self, rencana_menu: Dict, semua_resep: List[Resep]):\n",
        "        self.rencana_menu = rencana_menu\n",
        "        self.semua_resep_dict = {resep.nama: resep for resep in semua_resep}\n",
        "\n",
        "    def buat_daftar_belanja(self) -> Dict:\n",
        "        \"\"\"\n",
        "        Mengagregasi semua bahan dari rencana menu menjadi satu daftar belanja.\n",
        "        Keluaran: Dictionary {(nama_bahan, satuan): total_jumlah}\n",
        "        \"\"\"\n",
        "        daftar_belanja = defaultdict(float)\n",
        "\n",
        "        for waktu_makan, daftar_resep_harian in self.rencana_menu.items():\n",
        "            for nama_resep in daftar_resep_harian:\n",
        "                if nama_resep and nama_resep != \"---\":\n",
        "                    resep = self.semua_resep_dict.get(nama_resep)\n",
        "                    if resep:\n",
        "                        for bahan in resep.bahan:\n",
        "                            kunci = (bahan.nama.strip().capitalize(), bahan.satuan.strip().lower())\n",
        "                            daftar_belanja[kunci] += bahan.jumlah\n",
        "\n",
        "        return dict(sorted(daftar_belanja.items()))"
      ],
      "metadata": {
        "colab": {
          "base_uri": "https://localhost:8080/"
        },
        "id": "NPYNcKqsGqEg",
        "outputId": "327da18a-6255-42f1-f3c4-42dec79fb924"
      },
      "execution_count": null,
      "outputs": [
        {
          "output_type": "stream",
          "name": "stdout",
          "text": [
            "Overwriting perencana.py\n"
          ]
        }
      ]
    },
    {
      "cell_type": "code",
      "source": [
        "%%writefile app.py\n",
        "\n",
        "import streamlit as st\n",
        "import pandas as pd\n",
        "import random\n",
        "from model import Bahan, Resep\n",
        "from manajer_data import ManajerData\n",
        "from perencana import PerencanaMenu\n",
        "\n",
        "st.set_page_config(page_title=\"Asisten Dapur Cerdas\", layout=\"wide\", page_icon=\"🍳\")\n",
        "\n",
        "css = \"\"\"\n",
        "/* (CSS sama seperti sebelumnya, untuk menjaga tampilan) */\n",
        ":root { --primary-color: #FF6B6B; --background-color: #1a1a1a; --secondary-background-color: #2b2b2b; --text-color: #EAEAEA; --font: \"Segoe UI\", sans-serif; }\n",
        ".stButton>button { border-color: var(--primary-color); color: var(--primary-color); border-radius: 20px; transition: all 0.2s ease-in-out; }\n",
        ".stButton>button:hover { border-color: #FFFFFF; color: #FFFFFF; background-color: var(--primary-color); }\n",
        ".stButton>button:focus { border-color: #FFFFFF; color: #FFFFFF; background-color: var(--primary-color); box-shadow: none; }\n",
        "\"\"\"\n",
        "st.markdown(f\"<style>{css}</style>\", unsafe_allow_html=True)\n",
        "\n",
        "if 'manajer' not in st.session_state:\n",
        "    st.session_state.manajer = ManajerData()\n",
        "if 'daftar_resep' not in st.session_state:\n",
        "    st.session_state.daftar_resep = st.session_state.manajer.muat_resep()\n",
        "if 'rencana_menu_df' not in st.session_state:\n",
        "    hari = [\"Senin\", \"Selasa\", \"Rabu\", \"Kamis\", \"Jumat\", \"Sabtu\", \"Minggu\"]\n",
        "    waktu_makan = [\"Pagi\", \"Siang\", \"Malam\"]\n",
        "    df = pd.DataFrame(columns=hari, index=waktu_makan); df[:] = \"---\"\n",
        "    st.session_state.rencana_menu_df = df\n",
        "\n",
        "def reload_recipes():\n",
        "    st.session_state.daftar_resep = st.session_state.manajer.muat_resep()\n",
        "\n",
        "st.title(\"🍳 Asisten Dapur Cerdas \")\n",
        "st.caption(\"Perencanaan Kuliner Harian di Ujung Jari Anda.\")\n",
        "\n",
        "tab_beranda, tab_resep, tab_rencana, tab_belanja = st.tabs([\"**🏠 Beranda**\", \"**📖 Kelola Resep**\", \"**📅 Rencanakan Menu**\", \"**🛒 Daftar Belanja**\"])\n",
        "\n",
        "with tab_beranda:\n",
        "    st.header(\"Selamat Datang di Asisten Dapur Anda!\")\n",
        "    col1, col2 = st.columns(2)\n",
        "    total_resep = len(st.session_state.daftar_resep)\n",
        "    col1.metric(\"Total Resep Tersimpan\", f\"{total_resep} 📖\")\n",
        "    menu_direncanakan = (st.session_state.rencana_menu_df != \"---\").sum().sum()\n",
        "    col2.metric(\"Menu Direncanakan Minggu Ini\", f\"{menu_direncanakan} 🍽️\")\n",
        "    st.divider()\n",
        "    st.subheader(\"✨ Resep Pilihan Hari Ini\")\n",
        "    if total_resep > 0:\n",
        "        resep_pilihan = random.choice(st.session_state.daftar_resep)\n",
        "        with st.container(border=True): st.markdown(f\"#### {resep_pilihan.nama}\")\n",
        "    else:\n",
        "        st.info(\"Tambahkan resep pertama Anda di tab 'Kelola Resep'.\")\n",
        "\n",
        "\n",
        "with tab_resep:\n",
        "    with st.expander(\"➕ Tambah atau Edit Resep\"):\n",
        "        if 'edit_mode' not in st.session_state: st.session_state.edit_mode = False\n",
        "        resep_sebelumnya = st.session_state.get('resep_to_edit', None)\n",
        "        with st.form(key=\"form_resep\"):\n",
        "            st.subheader(\"Edit Resep\" if resep_sebelumnya else \"Tambah Resep Baru\")\n",
        "            nama_resep = st.text_input(\"Nama Resep\", value=resep_sebelumnya.nama if resep_sebelumnya else \"\")\n",
        "            bahan_awal = \"\\n\".join([f\"{b.nama},{b.jumlah},{b.satuan}\" for b in resep_sebelumnya.bahan]) if resep_sebelumnya else \"\"\n",
        "            bahan_text = st.text_area(\"Bahan-bahan (format: Nama,Jumlah,Satuan)\", value=bahan_awal, height=150)\n",
        "            instruksi = st.text_area(\"Instruksi\", value=resep_sebelumnya.instruksi if resep_sebelumnya else \"\")\n",
        "\n",
        "            submit_col, cancel_col, _ = st.columns([1,1,4])\n",
        "            if submit_col.form_submit_button(\"Simpan\"):\n",
        "                if not nama_resep or not bahan_text:\n",
        "                    st.error(\"Nama resep dan bahan tidak boleh kosong!\")\n",
        "                else:\n",
        "                    try:\n",
        "                        bahan_list = []\n",
        "                        for line in bahan_text.strip().split('\\n'):\n",
        "                            if line.strip():\n",
        "                                parts = line.split(',')\n",
        "                                if len(parts) == 3:\n",
        "                                    nama = parts[0].strip()\n",
        "                                    jumlah = float(parts[1].strip())\n",
        "                                    satuan = parts[2].strip()\n",
        "                                    bahan_list.append(Bahan(nama=nama, jumlah=jumlah, satuan=satuan))\n",
        "                                else:\n",
        "                                    raise ValueError(f\"Format baris bahan salah: '{line}'\")\n",
        "\n",
        "                        resep_obj = Resep(nama=nama_resep, bahan=bahan_list, instruksi=instruksi)\n",
        "\n",
        "                        if resep_sebelumnya: st.session_state.manajer.update_resep(resep_sebelumnya.nama, resep_obj)\n",
        "                        else: st.session_state.manajer.tambah_resep(resep_obj)\n",
        "\n",
        "                        st.session_state.edit_mode = False; st.session_state.resep_to_edit = None\n",
        "                        reload_recipes()\n",
        "                        st.success(\"Resep berhasil disimpan!\")\n",
        "                        st.rerun()\n",
        "\n",
        "                    except Exception as e:\n",
        "                        st.error(f\"Gagal menyimpan: {e}\")\n",
        "\n",
        "            if cancel_col.form_submit_button(\"Batal\", type=\"secondary\"):\n",
        "                st.session_state.edit_mode = False; st.session_state.resep_to_edit = None; st.rerun()\n",
        "\n",
        "    st.header(\"Koleksi Resep Anda\")\n",
        "    if not st.session_state.daftar_resep: st.info(\"Belum ada resep.\")\n",
        "    else:\n",
        "        for resep in st.session_state.daftar_resep:\n",
        "            with st.container(border=True):\n",
        "                col1, col2 = st.columns([3, 1])\n",
        "                with col1:\n",
        "                    st.subheader(resep.nama)\n",
        "                    st.caption(f\"Jumlah Bahan: {len(resep.bahan)}\")\n",
        "                with col2:\n",
        "                    action_col1, action_col2 = st.columns(2)\n",
        "                    if action_col1.button(\"👁️\", key=f\"view_{resep.nama}\", help=\"Lihat Detail\"):\n",
        "                        st.session_state.resep_to_edit = resep\n",
        "                    if action_col2.button(\"❌\", key=f\"del_{resep.nama}\", help=\"Hapus Resep\"):\n",
        "                        st.session_state.manajer.hapus_resep(resep.nama); reload_recipes(); st.rerun()\n",
        "\n",
        "                if st.session_state.get('resep_to_edit') and st.session_state.resep_to_edit.nama == resep.nama:\n",
        "                    st.divider()\n",
        "                    st.markdown(\"**Bahan-bahan:**\")\n",
        "                    for bahan in resep.bahan: st.markdown(f\"- {bahan.jumlah} {bahan.satuan} **{bahan.nama}**\")\n",
        "                    st.markdown(\"**Instruksi:**\")\n",
        "                    st.write(resep.instruksi if resep.instruksi else \"Tidak ada instruksi.\")\n",
        "                    if st.button(\"Tutup Detail\", key=f\"close_{resep.nama}\"):\n",
        "                        st.session_state.resep_to_edit = None; st.rerun()\n",
        "\n",
        "\n",
        "with tab_rencana:\n",
        "    st.header(\"Rencana Menu Mingguan\")\n",
        "    st.info(\"Klik pada sel untuk memilih resep dari daftar Anda.\")\n",
        "    pilihan_resep = [\"---\"] + [r.nama for r in st.session_state.daftar_resep]\n",
        "    edited_df = st.data_editor(st.session_state.rencana_menu_df, column_config={col: st.column_config.SelectboxColumn(options=pilihan_resep, required=True) for col in st.session_state.rencana_menu_df.columns}, use_container_width=True, height=145)\n",
        "    st.session_state.rencana_menu_df = edited_df\n",
        "\n",
        "with tab_belanja:\n",
        "    st.header(\"Daftar Belanja Otomatis\")\n",
        "    rencana_dict = st.session_state.rencana_menu_df.T.to_dict('list')\n",
        "    perencana = PerencanaMenu(rencana_dict, st.session_state.daftar_resep)\n",
        "    daftar_belanja_dict = perencana.buat_daftar_belanja()\n",
        "    if not daftar_belanja_dict: st.info(\"Rencana menu Anda kosong.\")\n",
        "    else:\n",
        "        df_belanja = pd.DataFrame([{\"Bahan\": nama, \"Jumlah\": jumlah, \"Satuan\": satuan} for (nama, satuan), jumlah in daftar_belanja_dict.items()])\n",
        "        col1, col2 = st.columns(2)\n",
        "        with col1: st.dataframe(df_belanja, use_container_width=True, hide_index=True)\n",
        "        with col2: st.bar_chart(df_belanja.set_index('Bahan')['Jumlah'])\n",
        "        csv = df_belanja.to_csv(index=False).encode('utf-8')\n",
        "        st.download_button(\"📥 Unduh Daftar Belanja (.csv)\", csv, 'daftar_belanja.csv', 'text/csv')"
      ],
      "metadata": {
        "colab": {
          "base_uri": "https://localhost:8080/"
        },
        "id": "fnB2FqkGJrsG",
        "outputId": "6b78bc2d-1779-445f-97ad-9c3c17bfcbbb"
      },
      "execution_count": null,
      "outputs": [
        {
          "output_type": "stream",
          "name": "stdout",
          "text": [
            "Overwriting app.py\n"
          ]
        }
      ]
    },
    {
      "cell_type": "code",
      "source": [
        "from pyngrok import ngrok\n",
        "import os\n",
        "\n",
        "AUTHTOKEN = \"2zDE01de6QGaCSBQvEm0fe6fuh3_7aqUaZcE1pgx9U41cieH\"\n",
        "\n",
        "os.environ[\"NGROK_AUTHTOKEN\"] = AUTHTOKEN\n",
        "ngrok.set_auth_token(AUTHTOKEN)\n",
        "\n",
        "!killall ngrok\n",
        "!nohup streamlit run app.py &\n",
        "\n",
        "try:\n",
        "    public_url = ngrok.connect(8501)\n",
        "    print(\"\\n=======================================================================================\")\n",
        "    print(\"🚀 APLIKASI WEB ANDA (v4.0) SUDAH SIAP!\")\n",
        "    print(f\"🔗 Klik link berikut untuk membuka: {public_url}\")\n",
        "    print(\"=======================================================================================\")\n",
        "except Exception as e:\n",
        "    print(f\"Error saat menjalankan ngrok: {e}\")"
      ],
      "metadata": {
        "colab": {
          "base_uri": "https://localhost:8080/"
        },
        "id": "69hHVmFgJvWe",
        "outputId": "c921831c-722f-4251-c88a-bf1ffb1289d2"
      },
      "execution_count": null,
      "outputs": [
        {
          "output_type": "stream",
          "name": "stderr",
          "text": [
            "WARNING:pyngrok.process.ngrok:t=2025-07-02T03:18:19+0000 lvl=warn msg=\"Stopping forwarder\" name=http-8501-ba66d543-ce54-4d8f-9a07-ef2fcb40b1e3 acceptErr=\"failed to accept connection: Listener closed\"\n",
            "WARNING:pyngrok.process.ngrok:t=2025-07-02T03:18:19+0000 lvl=warn msg=\"Error restarting forwarder\" name=http-8501-ba66d543-ce54-4d8f-9a07-ef2fcb40b1e3 err=\"failed to start tunnel: session closed\"\n"
          ]
        },
        {
          "output_type": "stream",
          "name": "stdout",
          "text": [
            "nohup: appending output to 'nohup.out'\n",
            "\n",
            "=======================================================================================\n",
            "🚀 APLIKASI WEB ANDA (v4.0) SUDAH SIAP!\n",
            "🔗 Klik link berikut untuk membuka: NgrokTunnel: \"https://69d1-35-243-234-90.ngrok-free.app\" -> \"http://localhost:8501\"\n",
            "=======================================================================================\n"
          ]
        }
      ]
    }
  ]
}