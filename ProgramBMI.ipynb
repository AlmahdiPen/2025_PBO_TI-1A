{
  "nbformat": 4,
  "nbformat_minor": 0,
  "metadata": {
    "colab": {
      "provenance": [],
      "authorship_tag": "ABX9TyOSwIXh1DEEaIwcqTt+tVx5",
      "include_colab_link": true
    },
    "kernelspec": {
      "name": "python3",
      "display_name": "Python 3"
    },
    "language_info": {
      "name": "python"
    }
  },
  "cells": [
    {
      "cell_type": "markdown",
      "metadata": {
        "id": "view-in-github",
        "colab_type": "text"
      },
      "source": [
        "<a href=\"https://colab.research.google.com/github/AlmahdiPen/2025_PBO_TI-1A/blob/main/ProgramBMI.ipynb\" target=\"_parent\"><img src=\"https://colab.research.google.com/assets/colab-badge.svg\" alt=\"Open In Colab\"/></a>"
      ]
    },
    {
      "cell_type": "markdown",
      "source": [
        "# Progam BMI"
      ],
      "metadata": {
        "id": "YDF8o8ifuxL3"
      }
    },
    {
      "cell_type": "code",
      "execution_count": 5,
      "metadata": {
        "colab": {
          "base_uri": "https://localhost:8080/"
        },
        "id": "wTlsyUfZuoTx",
        "outputId": "338d7f20-d972-4fb9-da61-61e4a1b69e9c"
      },
      "outputs": [
        {
          "output_type": "stream",
          "name": "stdout",
          "text": [
            "===== Program Body Mass Index =====\n",
            "Silahkan Masukkan Berat Badan Anda (dalam kg): 50\n",
            "Silahkan Masukkan Tinggi Badan Anda (dalam cm): 170\n",
            "\n",
            "Body Mass Index Anda: 17.30\n",
            "Anda dikategorikan kurus (Underweight)\n",
            "\n",
            "Apakah Anda Mau Keluar? (Y/N): n\n",
            "===== Program Body Mass Index =====\n",
            "Silahkan Masukkan Berat Badan Anda (dalam kg): 65\n",
            "Silahkan Masukkan Tinggi Badan Anda (dalam cm): 170\n",
            "\n",
            "Body Mass Index Anda: 22.49\n",
            "Anda dikategorikan Normal\n",
            "\n",
            "Apakah Anda Mau Keluar? (Y/N): n\n",
            "===== Program Body Mass Index =====\n",
            "Silahkan Masukkan Berat Badan Anda (dalam kg): 80\n",
            "Silahkan Masukkan Tinggi Badan Anda (dalam cm): 170\n",
            "\n",
            "Body Mass Index Anda: 27.68\n",
            "Anda dikategorikan gemuk (Overweight)\n",
            "\n",
            "Apakah Anda Mau Keluar? (Y/N): y\n",
            "Terima kasih telah menggunakan program BMI ini.\n"
          ]
        }
      ],
      "source": [
        "import os\n",
        "\n",
        "while True:\n",
        "    os.system(\"cls\")\n",
        "    print(\"===== Program Body Mass Index =====\")\n",
        "\n",
        "    while True:\n",
        "        try:\n",
        "            berat = float(input(\"Silahkan Masukkan Berat Badan Anda (dalam kg): \"))\n",
        "            tinggi_cm = float(input(\"Silahkan Masukkan Tinggi Badan Anda (dalam cm): \"))\n",
        "\n",
        "            tinggi = tinggi_cm / 100\n",
        "\n",
        "            if berat <= 0 or tinggi <= 0:\n",
        "                print(\"Berat dan tinggi harus lebih dari 0! Silakan coba lagi.\")\n",
        "                continue\n",
        "            break\n",
        "\n",
        "        except ValueError:\n",
        "            print(\"Input tidak valid, silahkan masukkan angka!\")\n",
        "\n",
        "    bmi = berat / (tinggi ** 2)\n",
        "    print(f\"\\nBody Mass Index Anda: {bmi:.2f}\")\n",
        "\n",
        "    if bmi < 18.5:\n",
        "        print(\"Anda dikategorikan kurus (Underweight)\")\n",
        "    elif 18.5 <= bmi < 25:\n",
        "        print(\"Anda dikategorikan Normal\")\n",
        "    elif 25 <= bmi < 30:\n",
        "        print(\"Anda dikategorikan gemuk (Overweight)\")\n",
        "    else:\n",
        "        print(\"Anda dikategorikan Obesitas\")\n",
        "\n",
        "    while True:\n",
        "        keluar = input(\"\\nApakah Anda Mau Keluar? (Y/N): \").strip().upper()\n",
        "        if keluar in [\"Y\", \"N\"]:\n",
        "            break\n",
        "        print(\"Input tidak valid! Masukkan hanya 'Y' atau 'N'.\")\n",
        "\n",
        "    if keluar == \"Y\":\n",
        "        break\n",
        "\n",
        "print(\"Terima kasih telah menggunakan program BMI ini.\")\n"
      ]
    }
  ]
}