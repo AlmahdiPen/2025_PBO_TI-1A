{
  "nbformat": 4,
  "nbformat_minor": 0,
  "metadata": {
    "colab": {
      "provenance": [],
      "authorship_tag": "ABX9TyMlWpAlIgkI8FLQC5J07hv+",
      "include_colab_link": true
    },
    "kernelspec": {
      "name": "python3",
      "display_name": "Python 3"
    },
    "language_info": {
      "name": "python"
    }
  },
  "cells": [
    {
      "cell_type": "markdown",
      "metadata": {
        "id": "view-in-github",
        "colab_type": "text"
      },
      "source": [
        "<a href=\"https://colab.research.google.com/github/AlmahdiPen/2025_PBO_TI-1A/blob/main/Untitled0.ipynb\" target=\"_parent\"><img src=\"https://colab.research.google.com/assets/colab-badge.svg\" alt=\"Open In Colab\"/></a>"
      ]
    },
    {
      "cell_type": "markdown",
      "source": [
        "# Jobsheet 01 - Dasar Bahasa Pemrograman Phyton"
      ],
      "metadata": {
        "id": "8D0EaZsjp0X9"
      }
    },
    {
      "cell_type": "markdown",
      "source": [
        "# Praktikum 01. Tipe data dasar"
      ],
      "metadata": {
        "id": "PEhcLJDsDhkD"
      }
    },
    {
      "cell_type": "code",
      "execution_count": 5,
      "metadata": {
        "colab": {
          "base_uri": "https://localhost:8080/"
        },
        "id": "Chh46Ee3nh5C",
        "outputId": "e06908fa-6169-4d10-a582-0161f17516b0"
      },
      "outputs": [
        {
          "output_type": "stream",
          "name": "stdout",
          "text": [
            "angka_int = 10 -> <class 'int'>\n"
          ]
        }
      ],
      "source": [
        " # 1. Number (int, float, complex)\n",
        " # Integer (int)\n",
        " angka_int = 10\n",
        " print(\"angka_int =\", angka_int, \"->\", type(angka_int))"
      ]
    },
    {
      "cell_type": "code",
      "source": [
        " # Float\n",
        " angka_float = 3.14\n",
        " print(\"angka_float =\", angka_float, \"->\", type(angka_float))"
      ],
      "metadata": {
        "colab": {
          "base_uri": "https://localhost:8080/"
        },
        "id": "HGdjS32G-Xal",
        "outputId": "c600001c-f1d3-4af6-886f-889b41782a51"
      },
      "execution_count": 6,
      "outputs": [
        {
          "output_type": "stream",
          "name": "stdout",
          "text": [
            "angka_float = 3.14 -> <class 'float'>\n"
          ]
        }
      ]
    },
    {
      "cell_type": "code",
      "source": [
        " # Complex\n",
        " angka_complex = 2 + 3j\n",
        " print(\"angka_complex =\", angka_complex, \"->\", type(angka_complex))"
      ],
      "metadata": {
        "colab": {
          "base_uri": "https://localhost:8080/"
        },
        "id": "__bYtDlq-qIj",
        "outputId": "035b786e-8d37-4a54-fca3-b6cfd9660043"
      },
      "execution_count": 7,
      "outputs": [
        {
          "output_type": "stream",
          "name": "stdout",
          "text": [
            "angka_complex = (2+3j) -> <class 'complex'>\n"
          ]
        }
      ]
    },
    {
      "cell_type": "code",
      "source": [
        " # 2. Boolean\n",
        " is_active = True\n",
        " print(\"is_active =\", is_active, \"->\", type(is_active))"
      ],
      "metadata": {
        "colab": {
          "base_uri": "https://localhost:8080/"
        },
        "id": "sXz1W6oi_L-c",
        "outputId": "4f4f8dc5-fc74-4f81-c19b-c0c8494a7f28"
      },
      "execution_count": 8,
      "outputs": [
        {
          "output_type": "stream",
          "name": "stdout",
          "text": [
            "is_active = True -> <class 'bool'>\n"
          ]
        }
      ]
    },
    {
      "cell_type": "code",
      "source": [
        " # 3. String\n",
        " teks = \"Hello, Python!\"\n",
        " print(\"teks =\", teks, \"->\", type(teks))"
      ],
      "metadata": {
        "colab": {
          "base_uri": "https://localhost:8080/"
        },
        "id": "THfT9G_w_32q",
        "outputId": "629ffa7b-7d56-4e32-91a9-c5aefa7aa428"
      },
      "execution_count": 9,
      "outputs": [
        {
          "output_type": "stream",
          "name": "stdout",
          "text": [
            "teks = Hello, Python! -> <class 'str'>\n"
          ]
        }
      ]
    },
    {
      "cell_type": "code",
      "source": [
        "# 4. List\n",
        " # List adalah tipe data terurut dan dapat diubah (mutable)\n",
        "daftar_angka = [1, 2, 3, 4, 5]\n",
        "print(\"daftar_angka =\", daftar_angka, \"->\", type(daftar_angka))"
      ],
      "metadata": {
        "colab": {
          "base_uri": "https://localhost:8080/"
        },
        "id": "Q9P-sDaBAFzh",
        "outputId": "ec8c8626-2799-4e57-e147-8254d3ae4ba7"
      },
      "execution_count": 12,
      "outputs": [
        {
          "output_type": "stream",
          "name": "stdout",
          "text": [
            "daftar_angka = [1, 2, 3, 4, 5] -> <class 'list'>\n"
          ]
        }
      ]
    },
    {
      "cell_type": "code",
      "source": [
        "# 5. Tuple\n",
        " # Tuple adalah tipe data terurut tetapi tidak dapat diubah (immutable)\n",
        "koordinat = (10, 20)\n",
        "print(\"koordinat =\", koordinat, \"->\", type(koordinat))\n"
      ],
      "metadata": {
        "colab": {
          "base_uri": "https://localhost:8080/"
        },
        "id": "RSmzxVE6A0Bu",
        "outputId": "ad96f7e2-82f3-4992-bd24-6ee1d6b4473d"
      },
      "execution_count": 13,
      "outputs": [
        {
          "output_type": "stream",
          "name": "stdout",
          "text": [
            "koordinat = (10, 20) -> <class 'tuple'>\n"
          ]
        }
      ]
    },
    {
      "cell_type": "code",
      "source": [
        " # 6. Dictionary\n",
        " # Dictionary menyimpan data dalam pasangan key-value\n",
        " data_mahasiswa = {\n",
        " \"nama\": \"Andi\",\n",
        " \"nim\": \"A11.2022.12345\",\n",
        " \"jurusan\": \"Teknik Informatika\"}\n",
        " print(\"data_mahasiswa =\", data_mahasiswa, \"->\", type(data_mahasiswa))\n"
      ],
      "metadata": {
        "colab": {
          "base_uri": "https://localhost:8080/"
        },
        "id": "fOBUGoZKBE0D",
        "outputId": "5fff140e-59f5-4e89-dcd1-f727aa4aa828"
      },
      "execution_count": 20,
      "outputs": [
        {
          "output_type": "stream",
          "name": "stdout",
          "text": [
            "data_mahasiswa = {'nama': 'Andi', 'nim': 'A11.2022.12345', 'jurusan': 'Teknik Informatika'} -> <class 'dict'>\n"
          ]
        }
      ]
    },
    {
      "cell_type": "code",
      "source": [
        " # 7. Set\n",
        " # Set adalah tipe data yang tidak terurut, unik (tiap elemen hanya muncul 1x)\n",
        " himpunan_angka = {1, 2, 3, 2, 1}\n",
        "print(\"himpunan_angka =\", himpunan_angka, \"->\", type(himpunan_angka))"
      ],
      "metadata": {
        "colab": {
          "base_uri": "https://localhost:8080/"
        },
        "id": "K6NRrpR7BuFK",
        "outputId": "ff59195c-345d-44b3-fc51-ed61e256601b"
      },
      "execution_count": 22,
      "outputs": [
        {
          "output_type": "stream",
          "name": "stdout",
          "text": [
            "himpunan_angka = {1, 2, 3} -> <class 'set'>\n"
          ]
        }
      ]
    },
    {
      "cell_type": "code",
      "source": [
        " # 8. Contoh penggunaan konversi tipe data\n",
        " nilai_str = \"100\"\n",
        " print(\"\\nnilai_str =\", nilai_str, \"->\", type(nilai_str))\n",
        " nilai_int = int(nilai_str) # konversi string ke integer\n",
        " print(\"nilai_int =\", nilai_int, \"->\", type(nilai_int))\n"
      ],
      "metadata": {
        "colab": {
          "base_uri": "https://localhost:8080/"
        },
        "id": "URnyQz_WDEDl",
        "outputId": "8b60f559-f461-4aca-8ed6-1c16a213d78c"
      },
      "execution_count": 23,
      "outputs": [
        {
          "output_type": "stream",
          "name": "stdout",
          "text": [
            "\n",
            "nilai_str = 100 -> <class 'str'>\n",
            "nilai_int = 100 -> <class 'int'>\n"
          ]
        }
      ]
    },
    {
      "cell_type": "markdown",
      "source": [
        "# Praktikum 02. Variabel dan Operasi Dasar"
      ],
      "metadata": {
        "id": "6XdvXn_iD11E"
      }
    },
    {
      "cell_type": "code",
      "source": [
        "# -*- coding: utf-8 -*-\n",
        "\n",
        "# 1. Pendeklarasian Variabel\n",
        "nama = \"Budi\"\n",
        "umur = 20\n",
        "tinggi = 170.5\n",
        "is_student = True\n",
        "\n",
        "print(\"Nama =\", nama)\n",
        "print(\"Umur =\", umur)\n",
        "print(\"Tinggi =\", tinggi, \"cm\")\n",
        "print(\"Mahasiswa =\", is_student)\n",
        "\n",
        "# Python tidak memerlukan deklarasi tipe data secara eksplisit.\n",
        "# Tipe data variabel akan menyesuaikan nilai yang diberikan."
      ],
      "metadata": {
        "colab": {
          "base_uri": "https://localhost:8080/"
        },
        "id": "SpzGEAw_EEpZ",
        "outputId": "5802c11d-8e84-4a61-a53c-43a865522061"
      },
      "execution_count": 37,
      "outputs": [
        {
          "output_type": "stream",
          "name": "stdout",
          "text": [
            "Nama = Budi\n",
            "Umur = 20\n",
            "Tinggi = 170.5 cm\n",
            "Mahasiswa = True\n"
          ]
        }
      ]
    },
    {
      "cell_type": "code",
      "source": [
        " # 2. Operasi Aritmetika\n",
        " a = 10\n",
        " b = 3\n",
        "\n",
        " penjumlahan = a + b # Tambah\n",
        " pengurangan = a - b # Kurang\n",
        " perkalian = a * b # Kali\n",
        " pembagian = a / b # Bagi (hasil float)\n",
        " pembagian_bulat = a // b # Bagi (bulat)\n",
        " modulus = a % b # Sisa bagi\n",
        " pangkat = a ** b # Pemangkatan\n",
        "\n",
        " print(\"\\nOPERASI ARITMETIKA\")\n",
        " print(\"a =\", a, \", b =\", b)\n",
        " print(\"Penjumlahan =\", penjumlahan)\n",
        " print(\"Pengurangan =\", pengurangan)\n",
        " print(\"Perkalian =\", perkalian)\n",
        " print(\"Pembagian =\", pembagian)\n",
        " print(\"Pembagian Bulat =\", pembagian_bulat)\n",
        " print(\"Modulus =\", modulus)\n",
        " print(\"Pangkat =\", pangkat)"
      ],
      "metadata": {
        "colab": {
          "base_uri": "https://localhost:8080/"
        },
        "id": "CbCFGh99F4i9",
        "outputId": "a690bffd-5fdc-45aa-ba4a-ad3eda6e1298"
      },
      "execution_count": 43,
      "outputs": [
        {
          "output_type": "stream",
          "name": "stdout",
          "text": [
            "\n",
            "OPERASI ARITMETIKA\n",
            "a = 10 , b = 3\n",
            "Penjumlahan = 13\n",
            "Pengurangan = 7\n",
            "Perkalian = 30\n",
            "Pembagian = 3.3333333333333335\n",
            "Pembagian Bulat = 3\n",
            "Modulus = 1\n",
            "Pangkat = 1000\n"
          ]
        }
      ]
    },
    {
      "cell_type": "code",
      "source": [
        "# 3. Operasi Perbandingan\n",
        "# Menghasilkan nilai Boolean (True/False)\n",
        "lebih_besar = a > b\n",
        "kurang_dari = a < b\n",
        "sama_dengan = a == b\n",
        "tidak_sama = a != b\n",
        "lebih_besar_sama = a >= b\n",
        "kurang_sama = a <= b\n",
        "\n",
        "print(\"\\nOPERASI PERBANDINGAN\")\n",
        "print(\"a > b =\", lebih_besar)\n",
        "print(\"a < b =\", kurang_dari)\n",
        "print(\"a == b =\", sama_dengan)\n",
        "print(\"a != b =\", tidak_sama)\n",
        "print(\"a >= b =\", lebih_besar_sama)\n",
        "print(\"a <= b =\", kurang_sama)"
      ],
      "metadata": {
        "colab": {
          "base_uri": "https://localhost:8080/"
        },
        "id": "ThSs_4rhHV2T",
        "outputId": "7657bb71-e6ef-4716-928a-5e6f16e4df1e"
      },
      "execution_count": 46,
      "outputs": [
        {
          "output_type": "stream",
          "name": "stdout",
          "text": [
            "\n",
            "OPERASI PERBANDINGAN\n",
            "a > b = True\n",
            "a < b = False\n",
            "a == b = False\n",
            "a != b = True\n",
            "a >= b = True\n",
            "a <= b = False\n"
          ]
        }
      ]
    },
    {
      "cell_type": "code",
      "source": [
        " # 4. Operasi Logika\n",
        " # and, or, not\n",
        "\n",
        " x = True\n",
        " y = False\n",
        "\n",
        " logika_and = x and y\n",
        " logika_or = x or y\n",
        " logika_not_x = not x\n",
        "\n",
        " print(\"\\nOPERASI LOGIKA\")\n",
        " print(\"x =\", x, \", y =\", y)\n",
        " print(\"x and y =\", logika_and)\n",
        " print(\"x or y =\", logika_or)\n",
        " print(\"not x =\", logika_not_x)"
      ],
      "metadata": {
        "colab": {
          "base_uri": "https://localhost:8080/"
        },
        "id": "Yshp9bteH0C5",
        "outputId": "8efc0487-2a65-48c1-c9bc-2affec35a230"
      },
      "execution_count": 47,
      "outputs": [
        {
          "output_type": "stream",
          "name": "stdout",
          "text": [
            "\n",
            "OPERASI LOGIKA\n",
            "x = True , y = False\n",
            "x and y = False\n",
            "x or y = True\n",
            "not x = False\n"
          ]
        }
      ]
    },
    {
      "cell_type": "code",
      "source": [
        " # 5. Contoh penggunaan di dalam percabangan\n",
        " if a > b and b > 0:\n",
        "  print(\"\\nKondisi terpenuhi: a lebih besar dari b, dan b masih positif.\")\n",
        " else:\n",
        "  print(\"\\nKondisi tidak terpenuhi atau b <= 0.\")"
      ],
      "metadata": {
        "colab": {
          "base_uri": "https://localhost:8080/"
        },
        "id": "esMZ-2J2IE_3",
        "outputId": "5180c7e7-17fd-4861-d8a1-8cba6ee24bc4"
      },
      "execution_count": 52,
      "outputs": [
        {
          "output_type": "stream",
          "name": "stdout",
          "text": [
            "\n",
            "Kondisi terpenuhi: a lebih besar dari b, dan b masih positif.\n"
          ]
        }
      ]
    },
    {
      "cell_type": "markdown",
      "source": [],
      "metadata": {
        "id": "JDIdJfmUD1kI"
      }
    }
  ]
}